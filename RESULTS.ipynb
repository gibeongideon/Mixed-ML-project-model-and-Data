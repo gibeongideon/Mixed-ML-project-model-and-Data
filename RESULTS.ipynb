{
 "cells": [
  {
   "cell_type": "code",
   "execution_count": 2,
   "metadata": {},
   "outputs": [],
   "source": [
    "\n",
    "    \n",
    "r_links=[\n",
    "       \n",
    "    'https://vfl3.betradar.com/s4/?clientid=500&language=en&vsportid=1#2_1,3_800,22_7,5_1476828,9_fixtures,231_full,23_1',\n",
    "    'https://vfl3.betradar.com/s4/?clientid=500&language=en&vsportid=1#2_1,3_800,22_7,5_1476896,9_fixtures,231_full,23_1',\n",
    "    'https://vfl3.betradar.com/s4/?clientid=500&language=en&vsportid=1#2_1,3_800,22_7,5_1476962,9_fixtures,231_full,23_1',\n",
    "    'https://vfl3.betradar.com/s4/?clientid=500&language=en&vsportid=1#2_1,3_800,22_7,5_1477028,9_fixtures,231_full,23_1',\n",
    "    'https://vfl3.betradar.com/s4/?clientid=500&language=en&vsportid=1#2_1,3_800,22_7,5_1477082,9_fixtures,231_full,23_1',\n",
    "    'https://vfl3.betradar.com/s4/?clientid=500&language=en&vsportid=1#2_1,3_800,22_7,5_1477146,9_fixtures,231_full,23_1',\n",
    "    'https://vfl3.betradar.com/s4/?clientid=500&language=en&vsportid=1#2_1,3_800,22_7,5_1477274,9_fixtures,231_full,23_1',\n",
    "    'https://vfl3.betradar.com/s4/?clientid=500&language=en&vsportid=1#2_1,3_800,22_7,5_1477346,9_fixtures,231_full,23_1',\n",
    "    'https://vfl3.betradar.com/s4/?clientid=500&language=en&vsportid=1#2_1,3_800,22_7,5_1477414,9_fixtures,231_full,23_1',\n",
    "    'https://vfl3.betradar.com/s4/?clientid=500&language=en&vsportid=1#2_1,3_800,22_7,5_1477486,9_fixtures,231_full,23_1',\n",
    "    'https://vfl3.betradar.com/s4/?clientid=500&language=en&vsportid=1#2_1,3_800,22_7,5_1477624,9_fixtures,231_full,23_1',\n",
    "    'https://vfl3.betradar.com/s4/?clientid=500&language=en&vsportid=1#2_1,3_800,22_7,5_1477686,9_fixtures,231_full,23_1',\n",
    "    'https://vfl3.betradar.com/s4/?clientid=500&language=en&vsportid=1#2_1,3_800,22_7,5_1477808,9_fixtures,231_full,23_1',\n",
    "    'https://vfl3.betradar.com/s4/?clientid=500&language=en&vsportid=1#2_1,3_800,22_7,5_1477870,9_fixtures,231_full,23_1',\n",
    "    'https://vfl3.betradar.com/s4/?clientid=500&language=en&vsportid=1#2_1,3_800,22_7,5_1477928,9_fixtures,231_full,23_1',\n",
    "    'https://vfl3.betradar.com/s4/?clientid=500&language=en&vsportid=1#2_1,3_800,22_7,5_1478004,9_fixtures,231_full,23_1',\n",
    "    'https://vfl3.betradar.com/s4/?clientid=500&language=en&vsportid=1#2_1,3_800,22_7,5_1478070,9_fixtures,231_full,23_1',\n",
    "    'https://vfl3.betradar.com/s4/?clientid=500&language=en&vsportid=1#2_1,3_800,22_7,5_1478136,9_fixtures,231_full,23_1',\n",
    "    'https://vfl3.betradar.com/s4/?clientid=500&language=en&vsportid=1#2_1,3_800,22_7,5_1478206,9_fixtures,231_full,23_1',\n",
    "    'https://vfl3.betradar.com/s4/?clientid=500&language=en&vsportid=1#2_1,3_800,22_7,5_1478268,9_fixtures,231_full,23_1',\n",
    "    'https://vfl3.betradar.com/s4/?clientid=500&language=en&vsportid=1#2_1,3_800,22_7,5_1478338,9_fixtures,231_full,23_1',\n",
    "    'https://vfl3.betradar.com/s4/?clientid=500&language=en&vsportid=1#2_1,3_800,22_7,5_1478396,9_fixtures,231_full,23_1',\n",
    "    'https://vfl3.betradar.com/s4/?clientid=500&language=en&vsportid=1#2_1,3_800,22_7,5_1478458,9_fixtures,231_full,23_1',\n",
    "    'https://vfl3.betradar.com/s4/?clientid=500&language=en&vsportid=1#2_1,3_800,22_7,5_1478514,9_fixtures,231_full,23_1',\n",
    "    'https://vfl3.betradar.com/s4/?clientid=500&language=en&vsportid=1#2_1,3_800,22_7,5_1478582,9_fixtures,231_full,23_1',\n",
    "    'https://vfl3.betradar.com/s4/?clientid=500&language=en&vsportid=1#2_1,3_800,22_7,5_1478648,9_fixtures,231_full,23_1',\n",
    "    'https://vfl3.betradar.com/s4/?clientid=500&language=en&vsportid=1#2_1,3_800,22_7,5_1478708,9_fixtures,231_full,23_1',\n",
    "    'https://vfl3.betradar.com/s4/?clientid=500&language=en&vsportid=1#2_1,3_800,22_7,5_1478784,9_fixtures,231_full,23_1',\n",
    "    \n",
    "\n",
    "  \n",
    "]\n",
    "\n",
    "# 57417- 57421\n",
    "#Season 57336-Season 57308"
   ]
  },
  {
   "cell_type": "code",
   "execution_count": 3,
   "metadata": {},
   "outputs": [
    {
     "data": {
      "text/plain": [
       "28"
      ]
     },
     "execution_count": 3,
     "metadata": {},
     "output_type": "execute_result"
    }
   ],
   "source": [
    "len(r_links)"
   ]
  },
  {
   "cell_type": "code",
   "execution_count": 5,
   "metadata": {},
   "outputs": [],
   "source": [
    "from selenium import webdriver\n",
    "from selenium.webdriver.common.keys import Keys\n",
    "from selenium.webdriver.chrome.options import Options\n",
    "from time import sleep\n",
    "import pandas as pd\n",
    "options = Options()\n",
    "options.add_argument('--headless')\n",
    "#options.add_argument('--disable-gpu')\n"
   ]
  },
  {
   "cell_type": "code",
   "execution_count": 9,
   "metadata": {},
   "outputs": [],
   "source": [
    "def lData(pageSource,driver):\n",
    "    try:\n",
    "        sleep(1)\n",
    "        tables = pd.read_html(pageSource)\n",
    "        len(tables)\n",
    "        for n in range(len(tables)):\n",
    "            dF=tables[n]\n",
    "            with open('/home/ideon/Desktop/resultDataR2.csv', 'a') as f:\n",
    "                dF.to_csv(f, index=False, header=False)\n",
    "        \n",
    "        print('SAVING R DONE')\n",
    "        driver.close()\n",
    "\n",
    "    except:\n",
    "        pass\n",
    "        print('R_Data err')\n",
    "        driver.close()\n",
    "    \n",
    "        \n",
    "\n",
    "def reload(link,driver):\n",
    "        print('loading page')\n",
    "        sleep(1)\n",
    "        driver.get(link)\n",
    "        print('getting page-')\n",
    "        sleep(3)\n",
    "        pageSource=(driver.page_source).encode('utf-8')\n",
    "        sleep(2)\n",
    "        lData(pageSource,driver)"
   ]
  },
  {
   "cell_type": "code",
   "execution_count": 12,
   "metadata": {},
   "outputs": [
    {
     "name": "stdout",
     "output_type": "stream",
     "text": [
      "loading page\n",
      "getting page-\n",
      "SAVING R DONE\n",
      "loading page\n",
      "getting page-\n",
      "SAVING R DONE\n",
      "loading page\n",
      "getting page-\n",
      "SAVING R DONE\n",
      "loading page\n",
      "getting page-\n",
      "SAVING R DONE\n",
      "loading page\n",
      "getting page-\n",
      "SAVING R DONE\n",
      "loading page\n",
      "getting page-\n",
      "SAVING R DONE\n",
      "loading page\n",
      "getting page-\n",
      "SAVING R DONE\n",
      "loading page\n",
      "getting page-\n",
      "SAVING R DONE\n",
      "loading page\n",
      "getting page-\n",
      "SAVING R DONE\n",
      "loading page\n",
      "getting page-\n",
      "SAVING R DONE\n",
      "loading page\n",
      "getting page-\n",
      "SAVING R DONE\n",
      "loading page\n",
      "getting page-\n",
      "SAVING R DONE\n",
      "loading page\n",
      "getting page-\n",
      "SAVING R DONE\n",
      "loading page\n",
      "getting page-\n",
      "SAVING R DONE\n",
      "loading page\n",
      "getting page-\n",
      "SAVING R DONE\n",
      "loading page\n",
      "getting page-\n",
      "SAVING R DONE\n",
      "loading page\n",
      "getting page-\n",
      "SAVING R DONE\n",
      "loading page\n",
      "getting page-\n",
      "SAVING R DONE\n",
      "loading page\n",
      "getting page-\n",
      "SAVING R DONE\n",
      "loading page\n",
      "getting page-\n",
      "SAVING R DONE\n",
      "loading page\n",
      "getting page-\n",
      "SAVING R DONE\n",
      "loading page\n",
      "getting page-\n",
      "SAVING R DONE\n",
      "loading page\n",
      "getting page-\n",
      "SAVING R DONE\n",
      "loading page\n",
      "getting page-\n",
      "SAVING R DONE\n",
      "loading page\n",
      "getting page-\n",
      "SAVING R DONE\n",
      "loading page\n",
      "getting page-\n",
      "SAVING R DONE\n",
      "loading page\n",
      "getting page-\n",
      "SAVING R DONE\n",
      "loading page\n",
      "getting page-\n",
      "SAVING R DONE\n"
     ]
    }
   ],
   "source": [
    "\n",
    "#link=\"https://vfl3.betradar.com/s4/?clientid=500&language=en&vsportid=1#2_1,3_800,22_7,5_1381496,9_fixtures,231_full,23_1\"\n",
    "#link2=\"https://vfl3.betradar.com/s4/?clientid=500&language=en&vsportid=1#2_1,3_800,22_7,5_1381496,9_overview,25_1,10_2114552,26_5\"\n",
    "for link in r_links:\n",
    "    try:\n",
    "        \n",
    "        driver = webdriver.Chrome(executable_path=\"/home/ideon/Desktop/DataMineCode/chromedriver\",options=options)\n",
    "        sleep(2)\n",
    "        reload(link,driver)\n",
    "    except: \n",
    "        print('am here')\n",
    "        reload(link,driver)\n",
    "        sleep(2)\n",
    "    "
   ]
  },
  {
   "cell_type": "code",
   "execution_count": null,
   "metadata": {},
   "outputs": [],
   "source": []
  },
  {
   "cell_type": "code",
   "execution_count": null,
   "metadata": {},
   "outputs": [],
   "source": [
    "\n",
    "\n",
    "#Automate URL get_"
   ]
  },
  {
   "cell_type": "code",
   "execution_count": null,
   "metadata": {},
   "outputs": [],
   "source": []
  },
  {
   "cell_type": "code",
   "execution_count": null,
   "metadata": {},
   "outputs": [],
   "source": []
  },
  {
   "cell_type": "code",
   "execution_count": null,
   "metadata": {},
   "outputs": [],
   "source": []
  },
  {
   "cell_type": "code",
   "execution_count": null,
   "metadata": {},
   "outputs": [],
   "source": [
    "import pyautogui\n",
    "from time import sleep\n",
    "pyautogui.PAUSE = 4\n",
    "pyautogui.FAILSAFE = True"
   ]
  },
  {
   "cell_type": "code",
   "execution_count": null,
   "metadata": {},
   "outputs": [],
   "source": [
    "pyautogui.size()"
   ]
  },
  {
   "cell_type": "code",
   "execution_count": null,
   "metadata": {},
   "outputs": [],
   "source": [
    "\n"
   ]
  },
  {
   "cell_type": "code",
   "execution_count": null,
   "metadata": {},
   "outputs": [],
   "source": [
    "try:\n",
    "    while True:\n",
    "        \n",
    "        x, y = pyautogui.position()\n",
    "        positionStr = 'X: ' + str(x).rjust(4) + ' Y: ' + str(y).rjust(4)\n",
    "        print(positionStr)\n",
    "        sleep(5)\n",
    "except KeyboardInterrupt:\n",
    "    print('\\nDone.')"
   ]
  },
  {
   "cell_type": "code",
   "execution_count": null,
   "metadata": {},
   "outputs": [],
   "source": [
    "'''\n",
    "Procedures:\n",
    "\n",
    "1.Open Browser/Open general url/click stats/copy url/close popup/\n",
    "\n",
    "@Enter stats Url/\n",
    "  #click  position/get stats/store\n",
    "  #repeat\n",
    "@repeat\n",
    "\n",
    "'''\n",
    "\n",
    "driver = webdriver.Chrome(executable_path=\"/home/gsociety/Desktop/solen/chromedriver\")#,chrome_options=options)\n",
    "sleep(2)\n",
    "\n",
    "driver.get('https://vfl3.betradar.com/s4/?clientid=500&language=en&vsportid=1#2_1,3_800,22_7,5_1400004,9_fixtures,231_full,23_1')"
   ]
  },
  {
   "cell_type": "code",
   "execution_count": null,
   "metadata": {},
   "outputs": [],
   "source": [
    "urlg=driver.current_url\n",
    "driver.close()\n",
    "urlg"
   ]
  },
  {
   "cell_type": "code",
   "execution_count": null,
   "metadata": {},
   "outputs": [],
   "source": []
  },
  {
   "cell_type": "code",
   "execution_count": null,
   "metadata": {},
   "outputs": [],
   "source": [
    "class DataPositions():\n",
    "    pass\n",
    "\n",
    "p1=DataPositions()\n"
   ]
  },
  {
   "cell_type": "code",
   "execution_count": null,
   "metadata": {},
   "outputs": [],
   "source": [
    "#code to open brower and enter first URL:\n",
    "\n",
    "  #code to click a button\n",
    "  \n",
    "\n",
    "#code to open brower and enter first URL:\n",
    "  #code to click a button\n",
    "  #code to GET THE CONTENT  and SAVE"
   ]
  },
  {
   "cell_type": "code",
   "execution_count": null,
   "metadata": {},
   "outputs": [],
   "source": [
    "driver = webdriver.Chrome(executable_path=\"/home/gsociety/Desktop/solen/chromedriver\")#,chrome_options=options)\n",
    "sleep(2)\n",
    "driver.get('https://vfl3.betradar.com/s4/?clientid=500&language=en&vsportid=1#2_1,3_800,22_7,5_1400004,9_fixtures,231_full,23_1')"
   ]
  },
  {
   "cell_type": "code",
   "execution_count": null,
   "metadata": {},
   "outputs": [],
   "source": []
  },
  {
   "cell_type": "code",
   "execution_count": null,
   "metadata": {},
   "outputs": [],
   "source": []
  },
  {
   "cell_type": "code",
   "execution_count": null,
   "metadata": {},
   "outputs": [],
   "source": []
  },
  {
   "cell_type": "code",
   "execution_count": null,
   "metadata": {},
   "outputs": [],
   "source": [
    "\n",
    "#f"
   ]
  },
  {
   "cell_type": "code",
   "execution_count": null,
   "metadata": {},
   "outputs": [],
   "source": []
  }
 ],
 "metadata": {
  "kernelspec": {
   "display_name": "Python 3",
   "language": "python",
   "name": "python3"
  },
  "language_info": {
   "codemirror_mode": {
    "name": "ipython",
    "version": 3
   },
   "file_extension": ".py",
   "mimetype": "text/x-python",
   "name": "python",
   "nbconvert_exporter": "python",
   "pygments_lexer": "ipython3",
   "version": "3.7.0"
  }
 },
 "nbformat": 4,
 "nbformat_minor": 2
}
