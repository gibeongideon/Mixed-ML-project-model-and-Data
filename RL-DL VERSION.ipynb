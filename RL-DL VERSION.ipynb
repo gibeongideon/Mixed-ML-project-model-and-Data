{
 "cells": [
  {
   "cell_type": "markdown",
   "metadata": {},
   "source": [
    "###  Virtual Football League Prediction With RL"
   ]
  },
  {
   "cell_type": "code",
   "execution_count": 1,
   "metadata": {},
   "outputs": [
    {
     "name": "stderr",
     "output_type": "stream",
     "text": [
      "/home/gsociety/anaconda3/lib/python3.6/site-packages/h5py/__init__.py:36: FutureWarning: Conversion of the second argument of issubdtype from `float` to `np.floating` is deprecated. In future, it will be treated as `np.float64 == np.dtype(float).type`.\n",
      "  from ._conv import register_converters as _register_converters\n",
      "Using Theano backend.\n"
     ]
    }
   ],
   "source": [
    "from keras import backend as K\n",
    "from __future__ import division, print_function \n",
    "from keras.callbacks import ModelCheckpoint \n",
    "from keras.models import Sequential\n",
    "from keras.layers.core import Dense, Dropout, Activation,Flatten\n",
    "from keras.optimizers import SGD,Adam,RMSprop\n",
    "from keras.utils import np_utils\n",
    "import numpy as np\n",
    "import pylab as plt\n",
    "import numpy as np\n",
    "import matplotlib.pyplot as plt\n",
    "import os "
   ]
  },
  {
   "cell_type": "code",
   "execution_count": 155,
   "metadata": {},
   "outputs": [],
   "source": [
    "class Policy():\n",
    "    \n",
    "    def policy1(self,a,env_f):\n",
    "        self.env_f = env_f\n",
    "        self.rr = 0\n",
    "        self.new_s = 0\n",
    "        \n",
    "        #Policy definition defining reward\n",
    "        if self.env_f == [0,0,0] and a =='1':\n",
    "            self.rr = 0\n",
    "            self.new_s = 0\n",
    "        elif self.env_f == [0,0,0] and a =='0':\n",
    "            self.rr = 0\n",
    "            self.new_s = 0\n",
    "             ###################\n",
    "        elif self.env_f == [0,0,1] and a =='1':\n",
    "            self.rr = 50\n",
    "            self.new_s = 1\n",
    "        elif self.env_f == [0,0,1] and a =='0':\n",
    "            self.rr = 2\n",
    "            self.new_s = 1\n",
    "            #################\n",
    "        elif self.env_f == [0,1,0] and a =='1':\n",
    "            self.rr = 0\n",
    "            self.new_s = 2\n",
    "        elif self.env_f == [0,1,0] and a =='0':\n",
    "            self.rr =  12\n",
    "            self.new_s = 2\n",
    "           #############\n",
    "        \n",
    "        elif self.env_f == [0,1,1] and a =='1':\n",
    "            self.rr = 3\n",
    "            self.new_s = 3\n",
    "        elif self.env_f == [0,1,1] and a =='0':\n",
    "            self.rr =  1\n",
    "            self.new_s = 3\n",
    "            #####lll\n",
    "            \n",
    "        elif self.env_f == [1,0,0] and a =='1':\n",
    "            self.rr = 5\n",
    "            self.new_s = 0\n",
    "        elif self.env_f == [1,0,0] and a =='0':\n",
    "            self.rr = 0\n",
    "            self.new_s = 0\n",
    "            \n",
    "        elif self.env_f == [1,0,1] and a =='1':\n",
    "            self.rr = 3\n",
    "            self.new_s = 1\n",
    "        elif self.env_f == [1,0,1] and a =='0':\n",
    "            self.rr = 1\n",
    "            self.new_s = 1\n",
    "            ###############\n",
    "        elif self.env_f == [1,1,0] and a =='1':\n",
    "            self.rr = 9\n",
    "            self.new_s = 2\n",
    "        elif self.env_f == [1,1,0] and a =='0':\n",
    "            self.rr = 0\n",
    "            self.new_s = 2\n",
    "            #########\n",
    "        elif self.env_f == [1,1,1] and a =='1':\n",
    "            self.rr = 7\n",
    "            self.new_s = 3\n",
    "        elif self.env_f == [1,1,1] and a =='0':\n",
    "            self.rr = 1\n",
    "            self.new_s = 3\n",
    "        \n",
    "        return self.rr ,self.new_s\n",
    "        \n",
    "        \n",
    "    \n",
    "    def policy2(self,a,env_f):\n",
    "        self.env_f = env_F\n",
    "        pass\n",
    "    \n",
    "\n",
    "\n",
    "class GBetEnv():\n",
    "    counter = 0\n",
    "    def __init__(self,t_env_list,policy):\n",
    "        self.t_env = t_env_list\n",
    "        self.policy = policy\n",
    "        \n",
    "        \n",
    "    \n",
    "    \n",
    "    def r_action(self,a):\n",
    "        GBetEnv.counter += 1\n",
    "        b = GBetEnv.counter - 1\n",
    "        e = GBetEnv.counter + 1\n",
    "        #new_s = self.t_env[b:e]\n",
    "        new_s1 = self.t_env[b:e+1]\n",
    "        #new_s = GBetEnv.counter\n",
    "       \n",
    "        \n",
    "        #print(GBetEnv.counter)\n",
    "        #print(self.t_env)\n",
    "       # print('NEW_S:',new_s1)\n",
    "        #print(new_s1)\n",
    "        r,new_s = self.policy.policy1(a,new_s1)\n",
    "        \n",
    "        done = True\n",
    "        \n",
    "        return new_s ,r,done\n",
    "        \n",
    "    def reset(self):\n",
    "        GBetEnv.counter = 0\n",
    "        \n",
    "        return int(GBetEnv.counter)\n",
    "    "
   ]
  },
  {
   "cell_type": "code",
   "execution_count": 156,
   "metadata": {},
   "outputs": [
    {
     "data": {
      "text/plain": [
       "0"
      ]
     },
     "execution_count": 156,
     "metadata": {},
     "output_type": "execute_result"
    }
   ],
   "source": [
    "np.random.seed(200)\n",
    "ss = [np.random.randint(0,2) for val in range(100)] \n",
    "policy = Policy()\n",
    "g_env = GBetEnv(ss,policy) \n",
    "g_env.reset()"
   ]
  },
  {
   "cell_type": "code",
   "execution_count": null,
   "metadata": {},
   "outputs": [],
   "source": []
  },
  {
   "cell_type": "code",
   "execution_count": 157,
   "metadata": {},
   "outputs": [],
   "source": [
    "#naive_sum_reward_agent(g_env,num_episodes = 100)"
   ]
  },
  {
   "cell_type": "code",
   "execution_count": 158,
   "metadata": {},
   "outputs": [],
   "source": [
    "\n",
    "\n",
    "# data: shuffled and split between train and test sets\n",
    "#(X_train, y_train), (X_test, y_test) = mnist.load_data()\n",
    "#(x_train, y_train), (x_test, y_test)=vfl_data(t,10)\n",
    "\n",
    "#X_train is 60000 rows of 28x28 values --> reshaped in 60000 x 784\n",
    "\n",
    "#np.random.seed(1671) # for reproducibility"
   ]
  },
  {
   "cell_type": "code",
   "execution_count": 159,
   "metadata": {},
   "outputs": [],
   "source": [
    "\n",
    "# network and training \n",
    "NB_EPOCH = 1\n",
    "BATCH_SIZE = 1\n",
    "MODEL_DIR = \"/home/gsociety/Desktop/The Model/STORAGE/MODELS/DENSE\"\n",
    "VERBOSE = 1\n",
    "NB_CLASSES = 2 # number of outputs = number of digits\n",
    "OPTIMIZER =Adam() #SGD() # optimizer, explained later in this chapter\n",
    "N_HIDDEN = 80\n",
    "#N_HIDDEN1 =200\n",
    "#INITIAL_EPOCH = 0\n",
    "VALIDATION_SPLIT=0.25 # how much TRAIN is reserved for VALIDATION\n",
    "DROPOUT = 0.05\n",
    "RESHAPED = 5"
   ]
  },
  {
   "cell_type": "code",
   "execution_count": null,
   "metadata": {},
   "outputs": [],
   "source": []
  },
  {
   "cell_type": "code",
   "execution_count": 160,
   "metadata": {},
   "outputs": [],
   "source": [
    "\n",
    "# M_HIDDEN hidden layers 10 outputs\n",
    "model = Sequential()\n",
    "\n",
    "model.add(Dense(N_HIDDEN, input_shape=(5,)))\n",
    "model.add(Activation('relu'))\n",
    "#model.add(Dropout(DROPOUT))\n",
    "#model.add(Dense(N_HIDDEN1))\n",
    "#model.add(Activation('relu'))\n",
    "#model.add(Dropout(DROPOUT))\n",
    "#model.add(Dense(NB_CLASSES))\n",
    "#model.add(Dense(N_HIDDEN2))\n",
    "#model.add(Activation('relu'))\n",
    "#model.add(Dropout(DROPOUT))\n",
    "model.add(Dense(NB_CLASSES))\n",
    "model.add(Activation('linear'))\n",
    "#model.summary()\n",
    "\n",
    "model.compile(loss='mse',optimizer=OPTIMIZER,metrics=['mae',])"
   ]
  },
  {
   "cell_type": "code",
   "execution_count": 161,
   "metadata": {},
   "outputs": [
    {
     "data": {
      "text/plain": [
       "array([[-0.01476705, -0.03894807]], dtype=float32)"
      ]
     },
     "execution_count": 161,
     "metadata": {},
     "output_type": "execute_result"
    }
   ],
   "source": [
    "\n",
    "#inpp = np.identity(5)[2:3]\n",
    "#inpp = inpp.reshape(inpp.shape[0], 5)\n",
    "\n",
    "model.predict(np.identity(5)[2:3])\n"
   ]
  },
  {
   "cell_type": "code",
   "execution_count": null,
   "metadata": {},
   "outputs": [],
   "source": []
  },
  {
   "cell_type": "code",
   "execution_count": 197,
   "metadata": {},
   "outputs": [
    {
     "name": "stdout",
     "output_type": "stream",
     "text": [
      "Episode 1 of 5\n",
      "target_vec [ 5.2798986 13.568559 ]\n",
      "[[ 5.2798986 13.568559 ]]\n",
      "target_vec [3.6338365 9.513368 ]\n",
      "[[3.6338365 9.513368 ]]\n",
      "target_vec [ 5.285575 13.613992]\n",
      "[[ 5.285575 13.613992]]\n",
      "target_vec [ 5.2865005 13.623769 ]\n",
      "[[ 5.2865005 13.623769 ]]\n",
      "target_vec [7.738424  7.7918453]\n",
      "[[7.738424  7.7918453]]\n"
     ]
    }
   ],
   "source": [
    "from time import sleep\n",
    "\n",
    "\n",
    "num_episodes = 5\n",
    "y = 0.3\n",
    "eps = 0.8\n",
    "#lr = 0.8\n",
    "r_avg_list= []\n",
    "decay_factor = 0.998\n",
    "g_env.reset()\n",
    "#s = 0\n",
    "s = g_env.reset()\n",
    "for i in range(num_episodes):\n",
    "   \n",
    "    if i % 50 == 0:\n",
    "        sleep(2)\n",
    "        print(\"Episode {} of {}\".format(i +1,num_episodes))\n",
    "        \n",
    "    eps *= decay_factor\n",
    "    done = False\n",
    "    r_sum = 0\n",
    "\n",
    "    while not done:\n",
    "        #sleep(1)\n",
    "        if np.random.random() < eps:\n",
    "            a = str(np.random.randint(0,2))\n",
    "        else:\n",
    "            a = str(np.argmax(model.predict(np.identity(5)[s:s+1])))\n",
    "\n",
    "        new_s ,r,done = g_env.r_action(a)\n",
    "      \n",
    "       # print(r)\n",
    "        a = int(a)\n",
    "        #print(a)\n",
    "        #print(np.identity(5)[new_s:new_s+1])\n",
    "        target = r + y*np.max(model.predict(np.identity(5)[new_s:new_s+1]))\n",
    "        target_vec = model.predict(np.identity(5)[s:s+1])[0]\n",
    "        print('target_vec',target_vec)\n",
    "        \n",
    "        target_vec[a] = target\n",
    "        \n",
    "        model.fit(np.identity(5)[s:s+1] ,target_vec.reshape(-1,2),epochs=1,verbose=0)\n",
    "        s = new_s \n",
    "        r_sum += r\n",
    "                               \n",
    "    r_avg_list.append(r_sum)\n",
    "                               \n"
   ]
  },
  {
   "cell_type": "code",
   "execution_count": 172,
   "metadata": {},
   "outputs": [],
   "source": [
    " #r_avg_list"
   ]
  },
  {
   "cell_type": "code",
   "execution_count": 174,
   "metadata": {},
   "outputs": [
    {
     "data": {
      "image/png": "[encoded data removed]",
      "text/plain": [
       "<Figure size 432x288 with 1 Axes>"
      ]
     },
     "metadata": {},
     "output_type": "display_data"
    }
   ],
   "source": [
    "# list all data in history\n",
    "\n",
    "# summarize history for accuracy\n",
    "plt.plot(r_avg_list)\n",
    "\n",
    "plt.title('model accuracy')\n",
    "plt.ylabel('r_avg_list')\n",
    "plt.xlabel('epoch')\n",
    "\n",
    "plt.show()"
   ]
  },
  {
   "cell_type": "code",
   "execution_count": null,
   "metadata": {},
   "outputs": [],
   "source": []
  },
  {
   "cell_type": "code",
   "execution_count": null,
   "metadata": {},
   "outputs": [],
   "source": []
  },
  {
   "cell_type": "code",
   "execution_count": 192,
   "metadata": {},
   "outputs": [
    {
     "data": {
      "text/plain": [
       "array([[0., 0., 0., 0., 0.]])"
      ]
     },
     "execution_count": 192,
     "metadata": {},
     "output_type": "execute_result"
    }
   ],
   "source": [
    "pr = np.array([[0., 0., 0., 0., 0.]])\n",
    "pr"
   ]
  },
  {
   "cell_type": "code",
   "execution_count": 193,
   "metadata": {},
   "outputs": [
    {
     "data": {
      "text/plain": [
       "array([[2.4956005, 5.920324 ]], dtype=float32)"
      ]
     },
     "execution_count": 193,
     "metadata": {},
     "output_type": "execute_result"
    }
   ],
   "source": [
    "model.predict(pr)"
   ]
  },
  {
   "cell_type": "code",
   "execution_count": null,
   "metadata": {},
   "outputs": [],
   "source": []
  }
 ],
 "metadata": {
  "kernelspec": {
   "display_name": "Python 3",
   "language": "python",
   "name": "python3"
  },
  "language_info": {
   "codemirror_mode": {
    "name": "ipython",
    "version": 3
   },
   "file_extension": ".py",
   "mimetype": "text/x-python",
   "name": "python",
   "nbconvert_exporter": "python",
   "pygments_lexer": "ipython3",
   "version": "3.6.5"
  }
 },
 "nbformat": 4,
 "nbformat_minor": 2
}
