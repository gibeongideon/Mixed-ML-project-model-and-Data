{
 "cells": [
  {
   "cell_type": "code",
   "execution_count": 24,
   "metadata": {},
   "outputs": [
    {
     "name": "stdout",
     "output_type": "stream",
     "text": [
      "[[[ 0.1]]\n",
      "\n",
      " [[ 0.1]]\n",
      "\n",
      " [[ 0.4]]\n",
      "\n",
      " [[ 0.3]]\n",
      "\n",
      " [[ 0.4]]]\n",
      "prediction [[ 0.25368187]\n",
      " [ 0.25368187]\n",
      " [ 0.41761279]\n",
      " [ 0.36185908]\n",
      " [ 0.41761279]]\n"
     ]
    }
   ],
   "source": [
    "from keras.models import load_model\n",
    "import numpy as np\n",
    "\n",
    "X=np.array([0.1 , 0.1  ,0.4,  0.3 , 0.4])\n",
    "X = X.reshape((len(X), 1, 1))\n",
    "print(X)\n",
    "#load model from single file\n",
    "model = load_model('lstm_model.h5')\n",
    "# make predictions\n",
    "yhat = model.predict(X, verbose=0)\n",
    "print('prediction',yhat)"
   ]
  },
  {
   "cell_type": "code",
   "execution_count": null,
   "metadata": {},
   "outputs": [],
   "source": []
  }
 ],
 "metadata": {
  "kernelspec": {
   "display_name": "Python 3",
   "language": "python",
   "name": "python3"
  },
  "language_info": {
   "codemirror_mode": {
    "name": "ipython",
    "version": 3
   },
   "file_extension": ".py",
   "mimetype": "text/x-python",
   "name": "python",
   "nbconvert_exporter": "python",
   "pygments_lexer": "ipython3",
   "version": "3.5.5"
  }
 },
 "nbformat": 4,
 "nbformat_minor": 2
}
