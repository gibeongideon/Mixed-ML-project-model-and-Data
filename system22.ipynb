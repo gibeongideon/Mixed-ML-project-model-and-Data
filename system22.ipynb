{
 "cells": [
  {
   "cell_type": "code",
   "execution_count": 1,
   "metadata": {},
   "outputs": [],
   "source": [
    "import pandas as pd\n",
    "from time import sleep"
   ]
  },
  {
   "cell_type": "code",
   "execution_count": 2,
   "metadata": {},
   "outputs": [],
   "source": [
    "#Collumn data Holders\n",
    "\n",
    "STAKE = [0,0,0]\n",
    "RESULTS = [0,0,0,]\n",
    "\n",
    "       \n",
    "       \n",
    "WinLossHistory = [0,0,0,]\n",
    "\n",
    "LOSSES = [0,0,0,]\n",
    "PROFIT = [0,0,0,]\n",
    "CumLOSSES = [0,0,0,]  \n",
    "RE_LOSSES = [0,0,0,]\n",
    "\n",
    "BANKBALANCE = [0,0,10000,]"
   ]
  },
  {
   "cell_type": "code",
   "execution_count": 3,
   "metadata": {},
   "outputs": [],
   "source": [
    "cBankBalance=BANKBALANCE[-1]\n",
    "cProfit=PROFIT[-1]\n",
    "cLosses=LOSSES[-1]\n",
    "#cSumLosses=SumLossesHistory[-1]\n",
    "cStake=STAKE[-1]\n",
    "nBankBalance=cBankBalance + cProfit - cLosses\n",
    "\n",
    "#condidion=[False,False,False,]"
   ]
  },
  {
   "cell_type": "code",
   "execution_count": null,
   "metadata": {},
   "outputs": [],
   "source": []
  },
  {
   "cell_type": "code",
   "execution_count": 4,
   "metadata": {},
   "outputs": [],
   "source": [
    "\n",
    "def resetCum(cumlist,list_to_restart_SUM,c,p):\n",
    "    p=int(p)\n",
    "    if c << p:\n",
    "        s=int(cumlist[-1]) + int(list_to_restart_SUM[-1])\n",
    "        list_to_restart_SUM.append(s)\n",
    "        RE_LOSSES.append(0)\n",
    "    elif c >> p:\n",
    "        if LOSSES[-1] == 0: \n",
    "            list_to_restart_SUM.append(0)\n",
    "            RE_LOSSES.append(0)\n",
    "        elif LOSSES[-1] >> 0:\n",
    "            RE_LOSSES.append(cumlist[-1])\n",
    "            list_to_restart_SUM.append(0)\n",
    "   # else:\n",
    "     #   pass\n",
    "        \n",
    "def cul_stake(odds,losses,gain,condT=False):\n",
    "    if condT == True:\n",
    "        stake=(gain)/(odds-1)\n",
    "        LOSSES.append(losses)\n",
    "        STAKE.append(stake)\n",
    "        return losses,stake\n",
    "    else:\n",
    "        stake= (losses+gain)/(odds-1)\n",
    "        STAKE.append(stake)\n",
    "        return stake\n",
    "    \n",
    "    \n",
    "def resultsT(resu,odds):\n",
    "    if resu == '0':\n",
    "        cStake=STAKE[-1]\n",
    "        LOSSES.append(cStake)\n",
    "        WinLossHistory.append(0)\n",
    "    elif resu == '1':\n",
    "        if LOSSES[-1]>0:\n",
    "            LOSSES.append(0)\n",
    "            cStake=STAKE[-1]\n",
    "            profit=(cStake*odds)\n",
    "        else:\n",
    "            LOSSES.append(0)\n",
    "            cStake=STAKE[-1]\n",
    "            profit=(cStake*odds)-cStake\n",
    "            \n",
    "        PROFIT.append(profit) # implement profit real culculator"
   ]
  },
  {
   "cell_type": "code",
   "execution_count": 7,
   "metadata": {},
   "outputs": [
    {
     "data": {
      "text/plain": [
       "[0, 0, 0]"
      ]
     },
     "execution_count": 7,
     "metadata": {},
     "output_type": "execute_result"
    }
   ],
   "source": [
    "p=500\n",
    "losses=LOSSES[-1]\n",
    "c=losses\n",
    "resetCum(LOSSES,CumLOSSES,c,p)\n",
    "\n",
    "CumLOSSES"
   ]
  },
  {
   "cell_type": "code",
   "execution_count": null,
   "metadata": {},
   "outputs": [],
   "source": [
    "\n",
    "while True:\n",
    "    sleep(5)\n",
    "    odds= 2\n",
    "    losses=CumLOSSES[-1]\n",
    "    gain=50\n",
    "    cul_stake(odds,losses,gain,condT=False)\n",
    " \n",
    "    p=500\n",
    "    c=losses\n",
    "    resetCum(LOSSES,CumLOSSES,c,p)\n",
    "    \n",
    "    resu=input('ENTER RESULTS 1 or 0:')\n",
    "    WinLossHistory.append(resu)\n",
    "    sleep(0.005)\n",
    "    resultsT(resu,odds)\n",
    "   \n",
    "\n",
    "\n",
    "    #cumlist=LOSSES\n",
    "    #list_to_restart_SUM = CumLOSSES\n",
    "    print('loss:',LOSSES)\n",
    "    print('CumL:',CumLOSSES)\n",
    "    print('resl:',RE_LOSSES)\n",
    "    print('stake:',STAKE)\n"
   ]
  },
  {
   "cell_type": "code",
   "execution_count": null,
   "metadata": {},
   "outputs": [],
   "source": []
  },
  {
   "cell_type": "code",
   "execution_count": null,
   "metadata": {},
   "outputs": [],
   "source": []
  },
  {
   "cell_type": "code",
   "execution_count": null,
   "metadata": {},
   "outputs": [],
   "source": []
  },
  {
   "cell_type": "code",
   "execution_count": null,
   "metadata": {},
   "outputs": [],
   "source": []
  },
  {
   "cell_type": "code",
   "execution_count": null,
   "metadata": {},
   "outputs": [],
   "source": [
    "from time import sleep\n",
    "\n",
    "while True:\n",
    "    sleep(1)\n",
    "    odds= 2\n",
    "    losses=LOSSES[-1]\n",
    "    gain=50\n",
    "    cul_stake(odds,losses,gain,condT=False)\n",
    "    resu=input('ENTER RESULTS 1 or 0:')\n",
    "    WinLossHistory.append(resu)\n",
    "    sleep(0.005)\n",
    "    resultsT(resu,odds)\n",
    "    cProfit=PROFIT[-1]\n",
    "    cLosses=LOSSES[-1]\n",
    "    cBankBalance=cBankBalance + cProfit - cLosses\n",
    "    WinLossHistory[-1]\n",
    "    WinLossHistory[-2]\n",
    "   # if WinLossHistory[-1] and WinLossHistory[-2] == 1:\n",
    "      #  condidion=True\n",
    "        \n",
    "    c = input('con:')\n",
    "    c=str(c)\n",
    "    \n",
    "    #cumlist = LOSSES\n",
    "  # list_to_restart_SUM = CumLosses\n",
    "    LOSSES\n",
    "    CumLosses\n",
    "   # resetCum(cumlist,list_to_restart_SUM,c)\n",
    "\n",
    "    resetCum(LOSSES,CumLOSSES,c)\n",
    "    \n",
    "    BANKBALANCE.append(cBankBalance)\n",
    "    df=pd.DataFrame({'BankBalance':BANKBALANCE,'Profit':PROFIT,\n",
    "                     'Losses':LOSSES,'CumLoss':CumLosses,'Win/Loss':WinLossHistory,'Stakes':STAKE}\n",
    "                    )\n",
    "    DF=df[-1:]\n",
    "    \n",
    "    print(df[-1:])\n",
    "    with open('/home/gsociety/Desktop/System21/TRANS/transt.csv', 'a') as f:\n",
    "        DF.to_csv(f, index=False, header=False)\n",
    "    \n",
    "    DF=df[-1:]\n",
    "    #ith open('trans.csv') as f:\n",
    "           #df.to_csv(f, index=False, header=False)\n",
    "  \n",
    "   # print('{}'.format(df,end='\\r'))"
   ]
  },
  {
   "cell_type": "code",
   "execution_count": null,
   "metadata": {},
   "outputs": [],
   "source": []
  },
  {
   "cell_type": "code",
   "execution_count": null,
   "metadata": {},
   "outputs": [],
   "source": []
  },
  {
   "cell_type": "code",
   "execution_count": null,
   "metadata": {},
   "outputs": [],
   "source": []
  },
  {
   "cell_type": "code",
   "execution_count": null,
   "metadata": {},
   "outputs": [],
   "source": []
  },
  {
   "cell_type": "code",
   "execution_count": null,
   "metadata": {},
   "outputs": [],
   "source": []
  },
  {
   "cell_type": "code",
   "execution_count": null,
   "metadata": {},
   "outputs": [],
   "source": []
  },
  {
   "cell_type": "code",
   "execution_count": null,
   "metadata": {},
   "outputs": [],
   "source": []
  },
  {
   "cell_type": "code",
   "execution_count": null,
   "metadata": {},
   "outputs": [],
   "source": []
  },
  {
   "cell_type": "code",
   "execution_count": null,
   "metadata": {},
   "outputs": [],
   "source": []
  },
  {
   "cell_type": "code",
   "execution_count": null,
   "metadata": {},
   "outputs": [],
   "source": []
  },
  {
   "cell_type": "code",
   "execution_count": null,
   "metadata": {},
   "outputs": [],
   "source": []
  },
  {
   "cell_type": "code",
   "execution_count": null,
   "metadata": {},
   "outputs": [],
   "source": []
  },
  {
   "cell_type": "code",
   "execution_count": null,
   "metadata": {},
   "outputs": [],
   "source": []
  },
  {
   "cell_type": "code",
   "execution_count": null,
   "metadata": {},
   "outputs": [],
   "source": []
  },
  {
   "cell_type": "code",
   "execution_count": null,
   "metadata": {},
   "outputs": [],
   "source": []
  }
 ],
 "metadata": {
  "kernelspec": {
   "display_name": "Python 3",
   "language": "python",
   "name": "python3"
  },
  "language_info": {
   "codemirror_mode": {
    "name": "ipython",
    "version": 3
   },
   "file_extension": ".py",
   "mimetype": "text/x-python",
   "name": "python",
   "nbconvert_exporter": "python",
   "pygments_lexer": "ipython3",
   "version": "3.5.5"
  }
 },
 "nbformat": 4,
 "nbformat_minor": 2
}
